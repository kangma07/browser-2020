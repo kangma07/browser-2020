{
  "nbformat": 4,
  "nbformat_minor": 0,
  "metadata": {
    "colab": {
      "provenance": [],
      "authorship_tag": "ABX9TyO5igJe5icQL9Ti+CCRvyQ0",
      "include_colab_link": true
    },
    "kernelspec": {
      "name": "python3",
      "display_name": "Python 3"
    },
    "language_info": {
      "name": "python"
    }
  },
  "cells": [
    {
      "cell_type": "markdown",
      "metadata": {
        "id": "view-in-github",
        "colab_type": "text"
      },
      "source": [
        "<a href=\"https://colab.research.google.com/github/kangma07/browser-2020/blob/master/%EC%82%B0%ED%95%99.ipynb\" target=\"_parent\"><img src=\"https://colab.research.google.com/assets/colab-badge.svg\" alt=\"Open In Colab\"/></a>"
      ]
    },
    {
      "cell_type": "code",
      "execution_count": null,
      "metadata": {
        "id": "JmYLtMW6G6GO"
      },
      "outputs": [],
      "source": []
    },
    {
      "cell_type": "code",
      "source": [
        "import cv2\n",
        "import math\n",
        "import numpy as np\n",
        "\n",
        "# get center of contour\n",
        "def centroid(contour):\n",
        "    M = cv2.moments(contour);\n",
        "    cx = int(round(M['m10']/M['m00']));\n",
        "    cy = int(round(M['m01']/M['m00']));\n",
        "    center = (cx, cy);\n",
        "    return center;\n",
        "\n",
        "# load image\n",
        "img = cv2.imread(\"target.png\");\n",
        "img = img[:,:-1,:]; # there's a bit of wall or something on the right\n",
        "\n",
        "# hsv\n",
        "hsv = cv2.cvtColor(img, cv2.COLOR_BGR2HSV);\n",
        "h,s,v = cv2.split(hsv);\n",
        "\n",
        "# find the outer ring\n",
        "v_mask = cv2.inRange(v, 0, 155);\n",
        "\n",
        "# contours\n",
        "_, contours, _ = cv2.findContours(v_mask, cv2.RETR_TREE, cv2.CHAIN_APPROX_SIMPLE);\n",
        "\n",
        "# find the biggest contour\n",
        "biggest_cntr = None;\n",
        "biggest_area = 0;\n",
        "marked = img.copy();x``\n",
        "for contour in contours:\n",
        "    area = cv2.contourArea(contour);\n",
        "    if area > biggest_area:\n",
        "        biggest_area = area;\n",
        "        biggest_cntr = contour;\n",
        "cv2.drawContours(marked, [biggest_cntr], -1, (0, 255, 0), 3);\n",
        "\n",
        "# find biggest radius\n",
        "big_radius = math.sqrt(biggest_area / math.pi);\n",
        "\n",
        "# find center\n",
        "center_v_mask = cv2.inRange(v, 215, 255);\n",
        "_, contours, _ = cv2.findContours(center_v_mask, cv2.RETR_TREE, cv2.CHAIN_APPROX_SIMPLE);\n",
        "center = centroid(contours[0]);\n",
        "\n",
        "# use this to calculate the middle radius\n",
        "area = cv2.contourArea(contours[0]);\n",
        "little_radius = math.sqrt(area / math.pi);\n",
        "\n",
        "# draw center\n",
        "marked = cv2.circle(marked, center, 2, (155,155,0), -1);\n",
        "\n",
        "# mask holes\n",
        "h_mask = cv2.inRange(h, 0, 30);\n",
        "h_mask = cv2.medianBlur(h_mask, 11);\n",
        "\n",
        "# draw contour centers\n",
        "_, contours, _ = cv2.findContours(h_mask, cv2.RETR_TREE, cv2.CHAIN_APPROX_SIMPLE);\n",
        "holes = [];\n",
        "for contour in contours:\n",
        "    c = centroid(contour);\n",
        "    holes.append(c);\n",
        "    marked = cv2.circle(marked, c, 2, (0,0,155), -1);\n",
        "\n",
        "# calculate approximate size of each ring\n",
        "# (with foreknowledge that there are 9 + bullseye)\n",
        "remaining_radius = big_radius - little_radius;\n",
        "slices = remaining_radius / 9;\n",
        "\n",
        "# calculate scores\n",
        "scores = [];\n",
        "for hole in holes:\n",
        "    # get distance from center\n",
        "    dx = hole[0] - center[0];\n",
        "    dy = hole[1] - center[1];\n",
        "    dist = math.sqrt(dx*dx + dy*dy);\n",
        "\n",
        "    # check score\n",
        "    dist -= little_radius;\n",
        "    if dist < 0:\n",
        "        scores.append(10);\n",
        "    else:\n",
        "        scores.append(9 - int(dist / slices));\n",
        "\n",
        "# draw the scores\n",
        "font = cv2.FONT_HERSHEY_SIMPLEX ;\n",
        "for a in range(len(holes)):\n",
        "    tup = (holes[a][0], holes[a][1]);\n",
        "    marked = cv2.putText(marked, str(scores[a]), tup, font, 1, (0,0,155), 2, cv2.LINE_AA);\n",
        "\n",
        "# show\n",
        "cv2.imshow(\"marked\", marked);\n",
        "cv2.waitKey(0);"
      ],
      "metadata": {
        "id": "sbkmLQaVG6-5"
      },
      "execution_count": null,
      "outputs": []
    }
  ]
}